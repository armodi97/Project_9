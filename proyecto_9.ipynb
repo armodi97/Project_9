{
 "cells": [
  {
   "cell_type": "code",
   "execution_count": 156,
   "metadata": {},
   "outputs": [],
   "source": [
    "import pandas as pd\n",
    "import numpy as np\n",
    "import plotly_express as px\n",
    "from sklearn.preprocessing import StandardScaler\n",
    "from sklearn.model_selection import train_test_split\n",
    "from sklearn.linear_model import LinearRegression\n",
    "from sklearn.metrics import mean_squared_error, r2_score, mean_absolute_error\n",
    "\n"
   ]
  },
  {
   "cell_type": "markdown",
   "metadata": {},
   "source": [
    "### Preparación de los datos"
   ]
  },
  {
   "cell_type": "code",
   "execution_count": 157,
   "metadata": {},
   "outputs": [],
   "source": [
    "data_0 = pd.read_csv(\"https://practicum-content.s3.us-west-1.amazonaws.com/datasets/geo_data_0.csv\")\n",
    "data_1 = pd.read_csv(\"https://practicum-content.s3.us-west-1.amazonaws.com/datasets/geo_data_1.csv\")\n",
    "data_2 = pd.read_csv(\"https://practicum-content.s3.us-west-1.amazonaws.com/datasets/geo_data_2.csv\")"
   ]
  },
  {
   "cell_type": "code",
   "execution_count": 158,
   "metadata": {},
   "outputs": [
    {
     "name": "stdout",
     "output_type": "stream",
     "text": [
      "<class 'pandas.core.frame.DataFrame'>\n",
      "RangeIndex: 100000 entries, 0 to 99999\n",
      "Data columns (total 5 columns):\n",
      " #   Column   Non-Null Count   Dtype  \n",
      "---  ------   --------------   -----  \n",
      " 0   id       100000 non-null  object \n",
      " 1   f0       100000 non-null  float64\n",
      " 2   f1       100000 non-null  float64\n",
      " 3   f2       100000 non-null  float64\n",
      " 4   product  100000 non-null  float64\n",
      "dtypes: float64(4), object(1)\n",
      "memory usage: 3.8+ MB\n",
      "None\n"
     ]
    },
    {
     "data": {
      "text/html": [
       "<div>\n",
       "<style scoped>\n",
       "    .dataframe tbody tr th:only-of-type {\n",
       "        vertical-align: middle;\n",
       "    }\n",
       "\n",
       "    .dataframe tbody tr th {\n",
       "        vertical-align: top;\n",
       "    }\n",
       "\n",
       "    .dataframe thead th {\n",
       "        text-align: right;\n",
       "    }\n",
       "</style>\n",
       "<table border=\"1\" class=\"dataframe\">\n",
       "  <thead>\n",
       "    <tr style=\"text-align: right;\">\n",
       "      <th></th>\n",
       "      <th>id</th>\n",
       "      <th>f0</th>\n",
       "      <th>f1</th>\n",
       "      <th>f2</th>\n",
       "      <th>product</th>\n",
       "    </tr>\n",
       "  </thead>\n",
       "  <tbody>\n",
       "    <tr>\n",
       "      <th>40485</th>\n",
       "      <td>5BUmx</td>\n",
       "      <td>-0.139248</td>\n",
       "      <td>0.273179</td>\n",
       "      <td>-2.909030</td>\n",
       "      <td>62.477651</td>\n",
       "    </tr>\n",
       "    <tr>\n",
       "      <th>45101</th>\n",
       "      <td>TqSOm</td>\n",
       "      <td>-0.994686</td>\n",
       "      <td>0.333281</td>\n",
       "      <td>-0.821951</td>\n",
       "      <td>41.193960</td>\n",
       "    </tr>\n",
       "    <tr>\n",
       "      <th>51191</th>\n",
       "      <td>ouTE4</td>\n",
       "      <td>0.900797</td>\n",
       "      <td>-0.063157</td>\n",
       "      <td>-2.808929</td>\n",
       "      <td>46.999499</td>\n",
       "    </tr>\n",
       "    <tr>\n",
       "      <th>23221</th>\n",
       "      <td>ty7B9</td>\n",
       "      <td>0.299643</td>\n",
       "      <td>-0.060850</td>\n",
       "      <td>-4.888196</td>\n",
       "      <td>28.218566</td>\n",
       "    </tr>\n",
       "    <tr>\n",
       "      <th>87316</th>\n",
       "      <td>OtOxB</td>\n",
       "      <td>-0.860394</td>\n",
       "      <td>0.264216</td>\n",
       "      <td>5.402231</td>\n",
       "      <td>54.547223</td>\n",
       "    </tr>\n",
       "  </tbody>\n",
       "</table>\n",
       "</div>"
      ],
      "text/plain": [
       "          id        f0        f1        f2    product\n",
       "40485  5BUmx -0.139248  0.273179 -2.909030  62.477651\n",
       "45101  TqSOm -0.994686  0.333281 -0.821951  41.193960\n",
       "51191  ouTE4  0.900797 -0.063157 -2.808929  46.999499\n",
       "23221  ty7B9  0.299643 -0.060850 -4.888196  28.218566\n",
       "87316  OtOxB -0.860394  0.264216  5.402231  54.547223"
      ]
     },
     "metadata": {},
     "output_type": "display_data"
    }
   ],
   "source": [
    "print(data_0.info())\n",
    "display(data_0.sample(5))"
   ]
  },
  {
   "cell_type": "code",
   "execution_count": 159,
   "metadata": {},
   "outputs": [
    {
     "name": "stdout",
     "output_type": "stream",
     "text": [
      "<class 'pandas.core.frame.DataFrame'>\n",
      "RangeIndex: 100000 entries, 0 to 99999\n",
      "Data columns (total 5 columns):\n",
      " #   Column   Non-Null Count   Dtype  \n",
      "---  ------   --------------   -----  \n",
      " 0   id       100000 non-null  object \n",
      " 1   f0       100000 non-null  float64\n",
      " 2   f1       100000 non-null  float64\n",
      " 3   f2       100000 non-null  float64\n",
      " 4   product  100000 non-null  float64\n",
      "dtypes: float64(4), object(1)\n",
      "memory usage: 3.8+ MB\n",
      "None\n"
     ]
    },
    {
     "data": {
      "text/html": [
       "<div>\n",
       "<style scoped>\n",
       "    .dataframe tbody tr th:only-of-type {\n",
       "        vertical-align: middle;\n",
       "    }\n",
       "\n",
       "    .dataframe tbody tr th {\n",
       "        vertical-align: top;\n",
       "    }\n",
       "\n",
       "    .dataframe thead th {\n",
       "        text-align: right;\n",
       "    }\n",
       "</style>\n",
       "<table border=\"1\" class=\"dataframe\">\n",
       "  <thead>\n",
       "    <tr style=\"text-align: right;\">\n",
       "      <th></th>\n",
       "      <th>id</th>\n",
       "      <th>f0</th>\n",
       "      <th>f1</th>\n",
       "      <th>f2</th>\n",
       "      <th>product</th>\n",
       "    </tr>\n",
       "  </thead>\n",
       "  <tbody>\n",
       "    <tr>\n",
       "      <th>57998</th>\n",
       "      <td>HUF81</td>\n",
       "      <td>9.350793</td>\n",
       "      <td>-1.259348</td>\n",
       "      <td>0.004010</td>\n",
       "      <td>0.000000</td>\n",
       "    </tr>\n",
       "    <tr>\n",
       "      <th>66227</th>\n",
       "      <td>Domil</td>\n",
       "      <td>-3.498473</td>\n",
       "      <td>-8.750826</td>\n",
       "      <td>0.001475</td>\n",
       "      <td>3.179103</td>\n",
       "    </tr>\n",
       "    <tr>\n",
       "      <th>7260</th>\n",
       "      <td>qLThr</td>\n",
       "      <td>-0.175078</td>\n",
       "      <td>8.764209</td>\n",
       "      <td>2.995737</td>\n",
       "      <td>80.859783</td>\n",
       "    </tr>\n",
       "    <tr>\n",
       "      <th>19693</th>\n",
       "      <td>yRHFf</td>\n",
       "      <td>10.980549</td>\n",
       "      <td>-6.379975</td>\n",
       "      <td>3.002152</td>\n",
       "      <td>80.859783</td>\n",
       "    </tr>\n",
       "    <tr>\n",
       "      <th>48650</th>\n",
       "      <td>4KLYn</td>\n",
       "      <td>8.509947</td>\n",
       "      <td>-1.821981</td>\n",
       "      <td>0.010558</td>\n",
       "      <td>0.000000</td>\n",
       "    </tr>\n",
       "  </tbody>\n",
       "</table>\n",
       "</div>"
      ],
      "text/plain": [
       "          id         f0        f1        f2    product\n",
       "57998  HUF81   9.350793 -1.259348  0.004010   0.000000\n",
       "66227  Domil  -3.498473 -8.750826  0.001475   3.179103\n",
       "7260   qLThr  -0.175078  8.764209  2.995737  80.859783\n",
       "19693  yRHFf  10.980549 -6.379975  3.002152  80.859783\n",
       "48650  4KLYn   8.509947 -1.821981  0.010558   0.000000"
      ]
     },
     "metadata": {},
     "output_type": "display_data"
    }
   ],
   "source": [
    "print(data_1.info())\n",
    "display(data_1.sample(5))"
   ]
  },
  {
   "cell_type": "code",
   "execution_count": 160,
   "metadata": {},
   "outputs": [
    {
     "name": "stdout",
     "output_type": "stream",
     "text": [
      "<class 'pandas.core.frame.DataFrame'>\n",
      "RangeIndex: 100000 entries, 0 to 99999\n",
      "Data columns (total 5 columns):\n",
      " #   Column   Non-Null Count   Dtype  \n",
      "---  ------   --------------   -----  \n",
      " 0   id       100000 non-null  object \n",
      " 1   f0       100000 non-null  float64\n",
      " 2   f1       100000 non-null  float64\n",
      " 3   f2       100000 non-null  float64\n",
      " 4   product  100000 non-null  float64\n",
      "dtypes: float64(4), object(1)\n",
      "memory usage: 3.8+ MB\n",
      "None\n"
     ]
    },
    {
     "data": {
      "text/html": [
       "<div>\n",
       "<style scoped>\n",
       "    .dataframe tbody tr th:only-of-type {\n",
       "        vertical-align: middle;\n",
       "    }\n",
       "\n",
       "    .dataframe tbody tr th {\n",
       "        vertical-align: top;\n",
       "    }\n",
       "\n",
       "    .dataframe thead th {\n",
       "        text-align: right;\n",
       "    }\n",
       "</style>\n",
       "<table border=\"1\" class=\"dataframe\">\n",
       "  <thead>\n",
       "    <tr style=\"text-align: right;\">\n",
       "      <th></th>\n",
       "      <th>id</th>\n",
       "      <th>f0</th>\n",
       "      <th>f1</th>\n",
       "      <th>f2</th>\n",
       "      <th>product</th>\n",
       "    </tr>\n",
       "  </thead>\n",
       "  <tbody>\n",
       "    <tr>\n",
       "      <th>58968</th>\n",
       "      <td>tzSDo</td>\n",
       "      <td>-3.105280</td>\n",
       "      <td>-2.792659</td>\n",
       "      <td>6.689034</td>\n",
       "      <td>140.684823</td>\n",
       "    </tr>\n",
       "    <tr>\n",
       "      <th>84244</th>\n",
       "      <td>aF4TZ</td>\n",
       "      <td>0.335524</td>\n",
       "      <td>-1.386283</td>\n",
       "      <td>7.861797</td>\n",
       "      <td>144.634111</td>\n",
       "    </tr>\n",
       "    <tr>\n",
       "      <th>84156</th>\n",
       "      <td>HbadM</td>\n",
       "      <td>-4.454823</td>\n",
       "      <td>-1.625946</td>\n",
       "      <td>-3.316058</td>\n",
       "      <td>80.242174</td>\n",
       "    </tr>\n",
       "    <tr>\n",
       "      <th>13656</th>\n",
       "      <td>tpVww</td>\n",
       "      <td>2.817730</td>\n",
       "      <td>1.808040</td>\n",
       "      <td>5.652858</td>\n",
       "      <td>128.573743</td>\n",
       "    </tr>\n",
       "    <tr>\n",
       "      <th>78212</th>\n",
       "      <td>GmENO</td>\n",
       "      <td>2.129299</td>\n",
       "      <td>0.351776</td>\n",
       "      <td>-5.106175</td>\n",
       "      <td>35.786568</td>\n",
       "    </tr>\n",
       "  </tbody>\n",
       "</table>\n",
       "</div>"
      ],
      "text/plain": [
       "          id        f0        f1        f2     product\n",
       "58968  tzSDo -3.105280 -2.792659  6.689034  140.684823\n",
       "84244  aF4TZ  0.335524 -1.386283  7.861797  144.634111\n",
       "84156  HbadM -4.454823 -1.625946 -3.316058   80.242174\n",
       "13656  tpVww  2.817730  1.808040  5.652858  128.573743\n",
       "78212  GmENO  2.129299  0.351776 -5.106175   35.786568"
      ]
     },
     "metadata": {},
     "output_type": "display_data"
    }
   ],
   "source": [
    "print(data_2.info())\n",
    "display(data_2.sample(5))"
   ]
  },
  {
   "cell_type": "code",
   "execution_count": 161,
   "metadata": {},
   "outputs": [],
   "source": [
    "### 2.1\n",
    "\n",
    "np.random.seed(99)\n",
    "\n",
    "features = data_0.drop([\"product\",\"id\"],axis=1)\n",
    "target = data_0[\"product\"]\n",
    "features_train, features_valid, target_train, target_valid = train_test_split(features, target, test_size=0.25)"
   ]
  },
  {
   "cell_type": "code",
   "execution_count": 162,
   "metadata": {},
   "outputs": [
    {
     "data": {
      "text/html": [
       "<div>\n",
       "<style scoped>\n",
       "    .dataframe tbody tr th:only-of-type {\n",
       "        vertical-align: middle;\n",
       "    }\n",
       "\n",
       "    .dataframe tbody tr th {\n",
       "        vertical-align: top;\n",
       "    }\n",
       "\n",
       "    .dataframe thead th {\n",
       "        text-align: right;\n",
       "    }\n",
       "</style>\n",
       "<table border=\"1\" class=\"dataframe\">\n",
       "  <thead>\n",
       "    <tr style=\"text-align: right;\">\n",
       "      <th></th>\n",
       "      <th>0</th>\n",
       "      <th>1</th>\n",
       "      <th>2</th>\n",
       "    </tr>\n",
       "  </thead>\n",
       "  <tbody>\n",
       "    <tr>\n",
       "      <th>0</th>\n",
       "      <td>1.569197</td>\n",
       "      <td>-0.753778</td>\n",
       "      <td>-0.460283</td>\n",
       "    </tr>\n",
       "    <tr>\n",
       "      <th>1</th>\n",
       "      <td>1.725887</td>\n",
       "      <td>-0.228225</td>\n",
       "      <td>0.229196</td>\n",
       "    </tr>\n",
       "    <tr>\n",
       "      <th>2</th>\n",
       "      <td>-1.058189</td>\n",
       "      <td>1.255698</td>\n",
       "      <td>-0.022986</td>\n",
       "    </tr>\n",
       "    <tr>\n",
       "      <th>3</th>\n",
       "      <td>0.582349</td>\n",
       "      <td>0.708827</td>\n",
       "      <td>0.625476</td>\n",
       "    </tr>\n",
       "    <tr>\n",
       "      <th>4</th>\n",
       "      <td>-1.553304</td>\n",
       "      <td>0.795851</td>\n",
       "      <td>1.287509</td>\n",
       "    </tr>\n",
       "    <tr>\n",
       "      <th>...</th>\n",
       "      <td>...</td>\n",
       "      <td>...</td>\n",
       "      <td>...</td>\n",
       "    </tr>\n",
       "    <tr>\n",
       "      <th>74995</th>\n",
       "      <td>1.113929</td>\n",
       "      <td>-1.254655</td>\n",
       "      <td>0.218222</td>\n",
       "    </tr>\n",
       "    <tr>\n",
       "      <th>74996</th>\n",
       "      <td>-1.572083</td>\n",
       "      <td>0.087865</td>\n",
       "      <td>-0.356533</td>\n",
       "    </tr>\n",
       "    <tr>\n",
       "      <th>74997</th>\n",
       "      <td>0.640734</td>\n",
       "      <td>-1.530119</td>\n",
       "      <td>-1.412387</td>\n",
       "    </tr>\n",
       "    <tr>\n",
       "      <th>74998</th>\n",
       "      <td>-0.203139</td>\n",
       "      <td>1.176828</td>\n",
       "      <td>-0.005336</td>\n",
       "    </tr>\n",
       "    <tr>\n",
       "      <th>74999</th>\n",
       "      <td>-1.262941</td>\n",
       "      <td>1.476053</td>\n",
       "      <td>1.190848</td>\n",
       "    </tr>\n",
       "  </tbody>\n",
       "</table>\n",
       "<p>75000 rows × 3 columns</p>\n",
       "</div>"
      ],
      "text/plain": [
       "              0         1         2\n",
       "0      1.569197 -0.753778 -0.460283\n",
       "1      1.725887 -0.228225  0.229196\n",
       "2     -1.058189  1.255698 -0.022986\n",
       "3      0.582349  0.708827  0.625476\n",
       "4     -1.553304  0.795851  1.287509\n",
       "...         ...       ...       ...\n",
       "74995  1.113929 -1.254655  0.218222\n",
       "74996 -1.572083  0.087865 -0.356533\n",
       "74997  0.640734 -1.530119 -1.412387\n",
       "74998 -0.203139  1.176828 -0.005336\n",
       "74999 -1.262941  1.476053  1.190848\n",
       "\n",
       "[75000 rows x 3 columns]"
      ]
     },
     "metadata": {},
     "output_type": "display_data"
    }
   ],
   "source": [
    "### 2.2\n",
    "\n",
    "scaler = StandardScaler()\n",
    "features_train = pd.DataFrame(scaler.fit_transform(features_train))\n",
    "features_valid = pd.DataFrame(scaler.transform(features_valid))\n",
    "display(features_train)\n"
   ]
  },
  {
   "cell_type": "code",
   "execution_count": 163,
   "metadata": {},
   "outputs": [
    {
     "data": {
      "text/plain": [
       "count    75000.000000\n",
       "mean        92.435116\n",
       "std         44.288363\n",
       "min          0.000000\n",
       "25%         56.482566\n",
       "50%         91.686317\n",
       "75%        128.499061\n",
       "max        185.364347\n",
       "Name: product, dtype: float64"
      ]
     },
     "execution_count": 163,
     "metadata": {},
     "output_type": "execute_result"
    }
   ],
   "source": [
    "target_train.describe()"
   ]
  },
  {
   "cell_type": "markdown",
   "metadata": {},
   "source": [
    "### Creación del modelo "
   ]
  },
  {
   "cell_type": "code",
   "execution_count": 164,
   "metadata": {},
   "outputs": [
    {
     "name": "stdout",
     "output_type": "stream",
     "text": [
      "Raínz del Error Cuadrático Medio: 37.75859856040333\n",
      "R2: 0.2731615218225071\n",
      "Error Absoluto Medio: 31.078132176307026\n",
      "Mediana 37.70448676817076\n",
      "Promedio: 92.54143347254964\n"
     ]
    }
   ],
   "source": [
    "## 2.2\n",
    "\n",
    "LinReg = LinearRegression()\n",
    "LinReg.fit(features_train, target_train)\n",
    "predictions = LinReg.predict(features_valid)\n",
    "\n",
    "mse = mean_squared_error(target_valid, predictions)\n",
    "mae = mean_absolute_error(target_valid, predictions)\n",
    "\n",
    "print(f\"Raínz del Error Cuadrático Medio: {mse**(1/2)}\")\n",
    "print(\"R2:\", r2_score(target_valid, predictions))\n",
    "print(f\"Error Absoluto Medio: {mae}\")\n",
    "predicted_valid = pd.Series(target_train.median(), index=target_valid.index) \n",
    "print(\"Mediana\", mean_absolute_error(target_valid, predicted_valid))\n",
    "print(\"Promedio:\", predictions.mean())\n",
    "\n"
   ]
  },
  {
   "cell_type": "code",
   "execution_count": 165,
   "metadata": {},
   "outputs": [],
   "source": [
    "\n",
    "#Función para predecir las reservas de la región\n",
    "def createModel(data):\n",
    "    \n",
    "#Estandarización de los datos\n",
    "    features = data.drop([\"product\",\"id\"],axis=1)\n",
    "    target = data[\"product\"]\n",
    "    features_train, features_valid, target_train, target_valid = train_test_split(features, target, test_size=0.25)\n",
    "    scaler = StandardScaler()\n",
    "    features_train = pd.DataFrame(scaler.fit_transform(features_train))\n",
    "    features_valid = pd.DataFrame(scaler.transform(features_valid))\n",
    "\n",
    "#Creación del modelo\n",
    "    LinReg = LinearRegression()\n",
    "   \n",
    "    LinReg.fit(features_train, target_train)\n",
    "    predictions = LinReg.predict(features_valid)\n",
    "    display(pd.Series(predictions))\n",
    "    mse = mean_squared_error(target_valid, predictions)\n",
    "    mae = mean_absolute_error(target_valid, predictions)\n",
    "\n",
    "    print(f\"Raínz del Error Cuadrático Medio: {mse**(1/2)}\")\n",
    "    print(\"R2:\", r2_score(target_valid, predictions))\n",
    "    print(f\"Error Absoluto Medio: {mae}\")    \n",
    "    print(\"Mediana:\", np.median(predictions))\n",
    "    print(\"Promedio:\", (np.mean(predictions)))\n",
    "\n",
    "    return predictions, target_valid"
   ]
  },
  {
   "cell_type": "code",
   "execution_count": 166,
   "metadata": {},
   "outputs": [
    {
     "data": {
      "text/plain": [
       "0        102.891221\n",
       "1         60.497161\n",
       "2        115.861037\n",
       "3        142.530794\n",
       "4         92.337338\n",
       "            ...    \n",
       "24995     72.862034\n",
       "24996    103.756694\n",
       "24997     63.513878\n",
       "24998    121.300806\n",
       "24999     51.391357\n",
       "Length: 25000, dtype: float64"
      ]
     },
     "metadata": {},
     "output_type": "display_data"
    },
    {
     "name": "stdout",
     "output_type": "stream",
     "text": [
      "Raínz del Error Cuadrático Medio: 37.850439570733286\n",
      "R2: 0.27352448259560425\n",
      "Error Absoluto Medio: 31.183469477104502\n",
      "Mediana: 92.35863839745718\n",
      "Promedio: 92.46586089314623\n"
     ]
    }
   ],
   "source": [
    "predict_0, target_valid_0 = createModel(data_0)"
   ]
  },
  {
   "cell_type": "code",
   "execution_count": 167,
   "metadata": {},
   "outputs": [
    {
     "data": {
      "text/plain": [
       "0        110.522972\n",
       "1         27.134105\n",
       "2        137.269570\n",
       "3          1.580384\n",
       "4         27.437326\n",
       "            ...    \n",
       "24995     30.487255\n",
       "24996    108.060709\n",
       "24997     54.799379\n",
       "24998     82.059065\n",
       "24999    138.102887\n",
       "Length: 25000, dtype: float64"
      ]
     },
     "metadata": {},
     "output_type": "display_data"
    },
    {
     "name": "stdout",
     "output_type": "stream",
     "text": [
      "Raínz del Error Cuadrático Medio: 0.891897008344148\n",
      "R2: 0.9996268204522695\n",
      "Error Absoluto Medio: 0.7203198644107978\n",
      "Mediana: 57.755292531901134\n",
      "Promedio: 68.41524363797912\n"
     ]
    }
   ],
   "source": [
    "predict_1, target_valid_1 = createModel(data_1)"
   ]
  },
  {
   "cell_type": "code",
   "execution_count": 168,
   "metadata": {},
   "outputs": [
    {
     "data": {
      "text/plain": [
       "0        104.604836\n",
       "1        104.799572\n",
       "2        108.512911\n",
       "3        136.743726\n",
       "4         89.389960\n",
       "            ...    \n",
       "24995     82.649104\n",
       "24996     77.397696\n",
       "24997    112.000811\n",
       "24998     97.690884\n",
       "24999    109.127029\n",
       "Length: 25000, dtype: float64"
      ]
     },
     "metadata": {},
     "output_type": "display_data"
    },
    {
     "name": "stdout",
     "output_type": "stream",
     "text": [
      "Raínz del Error Cuadrático Medio: 39.94450902888525\n",
      "R2: 0.2016741575652483\n",
      "Error Absoluto Medio: 32.71113508785899\n",
      "Mediana: 94.87475720369602\n",
      "Promedio: 94.9375848059233\n"
     ]
    }
   ],
   "source": [
    "predict_2, target_valid_2 = createModel(data_2)"
   ]
  },
  {
   "cell_type": "code",
   "execution_count": 169,
   "metadata": {},
   "outputs": [],
   "source": [
    "\n",
    "predictions = [predict_0, predict_1, predict_2]\n"
   ]
  },
  {
   "cell_type": "code",
   "execution_count": 170,
   "metadata": {},
   "outputs": [
    {
     "name": "stdout",
     "output_type": "stream",
     "text": [
      "Axes(0.125,0.11;0.775x0.77)\n"
     ]
    },
    {
     "data": {
      "image/png": "[encoded data removed]",
      "text/plain": [
       "<Figure size 640x480 with 1 Axes>"
      ]
     },
     "metadata": {},
     "output_type": "display_data"
    }
   ],
   "source": [
    "print(pd.Series(predictions).hist())\n"
   ]
  },
  {
   "cell_type": "code",
   "execution_count": 171,
   "metadata": {},
   "outputs": [
    {
     "name": "stdout",
     "output_type": "stream",
     "text": [
      "Cantidad media en la región 1: 92.46586089314623\n",
      "Cantidad media en la región 2: 68.41524363797912\n",
      "Cantidad media en la región 3: 94.9375848059233\n"
     ]
    }
   ],
   "source": [
    "for i, p in enumerate(predictions):\n",
    "    print(f\"Cantidad media en la región {i + 1}:\" , p.mean())"
   ]
  },
  {
   "cell_type": "markdown",
   "metadata": {},
   "source": [
    "#### Cálculo de ganancias"
   ]
  },
  {
   "cell_type": "code",
   "execution_count": 172,
   "metadata": {},
   "outputs": [
    {
     "name": "stdout",
     "output_type": "stream",
     "text": [
      "Ganancias potenciales para la región 1: $31,933,546\n",
      "Ganancias potenciales para la región 2: $24,150,867\n",
      "Ganancias potenciales para la región 3: $26,331,320\n"
     ]
    }
   ],
   "source": [
    "\"\"\"\n",
    "Para el cálculo de beneficios partimos de los siguientes parámetros\n",
    "100 millones de inversión por 200 pozos petrolíferos, \n",
    "500,000 dólares en unidades para evitar pérdidas (esto es equivalente a 111.1 unidades). \n",
    "Un barril de materias primas genera 4.5 USD de ingresos. El ingreso de una unidad de producto es de 4500 dólares \n",
    "\"\"\"\n",
    "\n",
    "inversion = 100000000\n",
    "tot_pozos = 200\n",
    "precio_barril = 4.5\n",
    "reservas_minimas = ((inversion/tot_pozos)/precio_barril)/1000\n",
    "best_600 = []\n",
    "#construir 3 dataframes con predict y target valid\n",
    "df_0 = pd.DataFrame({\"Predictions\":predict_0,\"Target\":target_valid_0})\n",
    "df_1 = pd.DataFrame({\"Predictions\":predict_1,\"Target\":target_valid_1})\n",
    "df_2 = pd.DataFrame({\"Predictions\":predict_2,\"Target\":target_valid_2})\n",
    "\n",
    "def ganancias(region):\n",
    "    #ordenar de mayor a menor (el df) de las predicciones by=predcitions\n",
    "    best_200 = region.sort_values(by=\"Predictions\", ascending = False).head(200)\n",
    "    tot_income = sum(best_200[\"Target\"])*4.5*1000\n",
    "    profit = tot_income - inversion\n",
    "    return profit\n",
    "\n",
    "for i, p in enumerate([df_0, df_1, df_2]):\n",
    "    print(f\"Ganancias potenciales para la región {i + 1}:\" , \"${:,.0f}\".format(ganancias(p)))"
   ]
  },
  {
   "cell_type": "markdown",
   "metadata": {},
   "source": [
    "### Bootstraping para el cáclulo de beneficios"
   ]
  },
  {
   "cell_type": "code",
   "execution_count": 173,
   "metadata": {},
   "outputs": [],
   "source": [
    "def bootstrap_calc(region):\n",
    "    state = np.random.RandomState(12345)\n",
    "    values = []\n",
    "    for i in range(1000):\n",
    "        subsample = region.sample(n=500, replace=True, random_state=state)\n",
    "        values.append(ganancias(subsample))\n",
    "\n",
    "    values = pd.Series(values)\n",
    "    lower = values.quantile(0.025)\n",
    "    upper = values.quantile(0.975)\n",
    "\n",
    "    print(lower)\n",
    "    print(upper)\n",
    "    print(values.mean())\n",
    "    print(\"Riesgo de pérdidas:\",(values < 0).mean())\n",
    "    return(values)"
   ]
  },
  {
   "cell_type": "markdown",
   "metadata": {},
   "source": [
    "### Selección de la mejor región (con menor riesgo)"
   ]
  },
  {
   "cell_type": "code",
   "execution_count": 174,
   "metadata": {},
   "outputs": [
    {
     "name": "stdout",
     "output_type": "stream",
     "text": [
      "-1006661.7920318181\n",
      "9185628.571056562\n",
      "3924823.5559344306\n",
      "Riesgo de pérdidas: 0.067\n",
      "Axes(0.125,0.11;0.775x0.77)\n"
     ]
    },
    {
     "data": {
      "image/png": "[encoded data removed]",
      "text/plain": [
       "<Figure size 640x480 with 1 Axes>"
      ]
     },
     "metadata": {},
     "output_type": "display_data"
    }
   ],
   "source": [
    "print(pd.Series(bootstrap_calc(df_0)).hist())\n"
   ]
  },
  {
   "cell_type": "code",
   "execution_count": 175,
   "metadata": {},
   "outputs": [
    {
     "name": "stdout",
     "output_type": "stream",
     "text": [
      "538473.0067736332\n",
      "8629707.20213668\n",
      "4447599.412589766\n",
      "Riesgo de pérdidas: 0.013\n",
      "Axes(0.125,0.11;0.775x0.77)\n"
     ]
    },
    {
     "data": {
      "image/png": "[encoded data removed]",
      "text/plain": [
       "<Figure size 640x480 with 1 Axes>"
      ]
     },
     "metadata": {},
     "output_type": "display_data"
    }
   ],
   "source": [
    "print(pd.Series(bootstrap_calc(df_1)).hist())\n"
   ]
  },
  {
   "cell_type": "code",
   "execution_count": 176,
   "metadata": {},
   "outputs": [
    {
     "name": "stdout",
     "output_type": "stream",
     "text": [
      "-1477942.5449837558\n",
      "8678044.629987717\n",
      "3719044.854411178\n",
      "Riesgo de pérdidas: 0.076\n",
      "Axes(0.125,0.11;0.775x0.77)\n"
     ]
    },
    {
     "data": {
      "image/png": "[encoded data removed]",
      "text/plain": [
       "<Figure size 640x480 with 1 Axes>"
      ]
     },
     "metadata": {},
     "output_type": "display_data"
    }
   ],
   "source": [
    "print(pd.Series(bootstrap_calc(df_2)).hist())\n"
   ]
  },
  {
   "cell_type": "markdown",
   "metadata": {},
   "source": [
    "5.2 \n",
    "\n",
    "A partir de los ultimos calculos utilizando técnicas de bootstraping, decidimos que la mejor opción para crear los 200 pozos es en la región 2, ya que el riesgo de pérdidas es el menor de todos"
   ]
  },
  {
   "cell_type": "markdown",
   "metadata": {},
   "source": [
    "### Conclusiones\n",
    "\n",
    "En este proyecto pudimos volver a practicar la creacion de modelos de ml, pero esta vez integrarlos en una función para poder aplicarlos a diferentes datasets. Además, agregamos diferentes pasos para el cálculo de ganancias de  cada una de  las regiones prospecto. Finalmente, utilizamos la técnica de bootstrapping con 1000 muestras para explorar la distribución de beneficios, encontrando el beneficio promedio, el intervalo de confianza del 95% y el riesgo de pérdidas. \n"
   ]
  }
 ],
 "metadata": {
  "kernelspec": {
   "display_name": "Python 3",
   "language": "python",
   "name": "python3"
  },
  "language_info": {
   "codemirror_mode": {
    "name": "ipython",
    "version": 3
   },
   "file_extension": ".py",
   "mimetype": "text/x-python",
   "name": "python",
   "nbconvert_exporter": "python",
   "pygments_lexer": "ipython3",
   "version": "3.12.0"
  }
 },
 "nbformat": 4,
 "nbformat_minor": 2
}
